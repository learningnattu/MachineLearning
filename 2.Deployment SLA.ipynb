{
 "cells": [
  {
   "cell_type": "code",
   "execution_count": 30,
   "id": "babb7e4d",
   "metadata": {},
   "outputs": [],
   "source": [
    "import pickle"
   ]
  },
  {
   "cell_type": "code",
   "execution_count": 40,
   "id": "6ddabbd2",
   "metadata": {},
   "outputs": [],
   "source": [
    "Load_model=pickle.load(open(\"Final_model_SLA.sav\",'rb'))"
   ]
  },
  {
   "cell_type": "code",
   "execution_count": 42,
   "id": "8d9c17c5",
   "metadata": {},
   "outputs": [
    {
     "name": "stderr",
     "output_type": "stream",
     "text": [
      "C:\\Users\\wilkiewolford\\anaconda3\\lib\\site-packages\\sklearn\\base.py:420: UserWarning: X does not have valid feature names, but LinearRegression was fitted with feature names\n",
      "  warnings.warn(\n"
     ]
    }
   ],
   "source": [
    "result=Load_model.predict([[24]])"
   ]
  },
  {
   "cell_type": "code",
   "execution_count": 43,
   "id": "02a2be26",
   "metadata": {},
   "outputs": [
    {
     "data": {
      "text/plain": [
       "array([[124766.8161435]])"
      ]
     },
     "execution_count": 43,
     "metadata": {},
     "output_type": "execute_result"
    }
   ],
   "source": [
    "result"
   ]
  },
  {
   "cell_type": "code",
   "execution_count": null,
   "id": "645befdd",
   "metadata": {},
   "outputs": [],
   "source": []
  }
 ],
 "metadata": {
  "kernelspec": {
   "display_name": "Python 3 (ipykernel)",
   "language": "python",
   "name": "python3"
  },
  "language_info": {
   "codemirror_mode": {
    "name": "ipython",
    "version": 3
   },
   "file_extension": ".py",
   "mimetype": "text/x-python",
   "name": "python",
   "nbconvert_exporter": "python",
   "pygments_lexer": "ipython3",
   "version": "3.10.9"
  }
 },
 "nbformat": 4,
 "nbformat_minor": 5
}
